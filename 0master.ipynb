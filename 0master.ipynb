{
 "cells": [
  {
   "cell_type": "code",
   "execution_count": 1,
   "metadata": {},
   "outputs": [],
   "source": [
    "from models.DistMult import DistMult\n",
    "from models.Complex import Complex\n",
    "from models.ConvE import ConvE, ConvE_args\n",
    "\n",
    "from utils.loaders import load_data, get_onehots\n",
    "from utils.evaluation_metrics import SRR, auprc_auroc_ap\n",
    "\n",
    "import torch\n",
    "import numpy as np\n",
    "from sklearn.utils import shuffle"
   ]
  },
  {
   "cell_type": "code",
   "execution_count": 2,
   "metadata": {},
   "outputs": [],
   "source": [
    "from utils.path_manage import get_files\n",
    "\n",
    "data, lookup, ASD_dictionary, BCE_dictionary, _, __ = get_files()\n",
    "entities = int(len(lookup)/2)"
   ]
  },
  {
   "cell_type": "code",
   "execution_count": 5,
   "metadata": {},
   "outputs": [
    {
     "output_type": "execute_result",
     "data": {
      "text/plain": "{'Protein_ID': 'P0AB91',\n 'Organism': 'E.coli',\n 'Gene': 'aroG',\n 'Gene_ID': 'NC_000913',\n 'Modulators': [('ASD00020003', 'Inhibitor'),\n  ('ASD00320001', 'Inhibitor'),\n  ('ASD00690002', 'Inhibitor'),\n  ('ASD02170001', 'Inhibitor')]}"
     },
     "metadata": {},
     "execution_count": 5
    }
   ],
   "source": [
    "ASD_dictionary[lookup[46163]]"
   ]
  },
  {
   "cell_type": "code",
   "execution_count": null,
   "metadata": {},
   "outputs": [],
   "source": []
  },
  {
   "cell_type": "code",
   "execution_count": null,
   "metadata": {},
   "outputs": [],
   "source": [
    "number_of_batches = 5\n",
    "number_of_epochs = 20\n",
    "x = shuffle(data)\n",
    "test_data = x[:50] #just limit data to the first n rows"
   ]
  },
  {
   "cell_type": "code",
   "execution_count": null,
   "metadata": {},
   "outputs": [],
   "source": [
    "# split your data \n",
    "# train_test_eval_split = "
   ]
  },
  {
   "cell_type": "code",
   "execution_count": null,
   "metadata": {},
   "outputs": [],
   "source": [
    "all_objects, all_relationships, all_subjects = np.split(test_data, 3, axis=1)\n",
    "all_objects = torch.LongTensor(all_objects)\n",
    "all_subjects = torch.squeeze(torch.LongTensor(all_subjects))\n",
    "all_relationships = torch.LongTensor(all_relationships)"
   ]
  },
  {
   "cell_type": "code",
   "execution_count": null,
   "metadata": {},
   "outputs": [],
   "source": [
    "model = DistMult(num_entities = entities, embedding_dim=100, num_relations=4)\n",
    "optimiser = torch.optim.Adam(model.parameters(), lr=0.01)"
   ]
  },
  {
   "cell_type": "code",
   "execution_count": null,
   "metadata": {
    "tags": [
     "outputPrepend",
     "outputPrepend",
     "outputPrepend"
    ]
   },
   "outputs": [],
   "source": [
    "\n",
    "for epoch in range(number_of_epochs):\n",
    "\n",
    "\n",
    "        #training stage \n",
    "        model.train()\n",
    "        objects, subjects, relationships  = load_data(test_data, number_of_batches)\n",
    "\n",
    "        for index in range(number_of_batches):\n",
    "\n",
    "            obj = torch.LongTensor(objects[index])\n",
    "            rel = torch.LongTensor(relationships[index])\n",
    "            subj = torch.squeeze(torch.LongTensor(subjects[index]))\n",
    "\n",
    "            optimiser.zero_grad()\n",
    "            pred = model.forward(e1 = obj, rel = rel)\n",
    "            loss = model.loss(pred, subj)\n",
    "            loss.backward()\n",
    "            optimiser.step()\n",
    "\n",
    "\n",
    "        #evaluation stage\n",
    "        model.eval()\n",
    "        objects, subjects, relationships  = load_data(test_data, number_of_batches)\n",
    "        total_sum_reciporical_rank = torch.zeros(1)\n",
    "\n",
    "        for index in range(number_of_batches):\n",
    "\n",
    "            obj = torch.LongTensor(objects[index])\n",
    "            rel = torch.LongTensor(relationships[index])\n",
    "            targets = torch.LongTensor(subjects[index])\n",
    "\n",
    "            predictions = model.forward(e1 = obj, rel = rel)\n",
    "            srr = SRR(predictions, targets) \n",
    "            # print(predictions.shape)\n",
    "            # print(targets.shape)\n",
    "            total_sum_reciporical_rank = total_sum_reciporical_rank + srr\n",
    "\n",
    "        print('mean reciporical rank is...')\n",
    "        print(total_sum_reciporical_rank / len(test_data))\n",
    "\n"
   ]
  },
  {
   "cell_type": "code",
   "execution_count": null,
   "metadata": {},
   "outputs": [],
   "source": [
    "one_hots = get_onehots(targets, entities)\n",
    "auprc, auroc, ap = auprc_auroc_ap(one_hots, predictions)"
   ]
  },
  {
   "cell_type": "code",
   "execution_count": null,
   "metadata": {},
   "outputs": [],
   "source": [
    "print(auroc)\n",
    "print(auprc)\n",
    "print(ap)"
   ]
  }
 ],
 "metadata": {
  "language_info": {
   "codemirror_mode": {
    "name": "ipython",
    "version": 3
   },
   "file_extension": ".py",
   "mimetype": "text/x-python",
   "name": "python",
   "nbconvert_exporter": "python",
   "pygments_lexer": "ipython3",
   "version": "3.8.2-final"
  },
  "orig_nbformat": 2,
  "kernelspec": {
   "name": "python38264bitalostericvenvvenve042302d83484289899f1ea331a7aba5",
   "display_name": "Python 3.8.2 64-bit ('.alosteric_venv': venv)"
  }
 },
 "nbformat": 4,
 "nbformat_minor": 2
}