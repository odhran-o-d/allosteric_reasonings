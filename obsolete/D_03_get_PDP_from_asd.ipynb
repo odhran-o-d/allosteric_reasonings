{
 "cells": [
  {
   "cell_type": "code",
   "execution_count": 4,
   "metadata": {},
   "outputs": [],
   "source": [
    "import xml.etree.ElementTree as ET\n",
    "import os, os.path\n",
    "import pickle\n",
    "import numpy as np"
   ]
  },
  {
   "cell_type": "code",
   "execution_count": 5,
   "metadata": {},
   "outputs": [],
   "source": [
    "file_directory = os.listdir(r'C:\\Users\\odhra\\Documents\\graph_project\\allosteric_reasonings\\data\\raw\\ASD\\ASD_Release_062015_XF')\n",
    "file_path = r'C:\\Users\\odhra\\Documents\\graph_project\\allosteric_reasonings\\data\\raw\\ASD\\ASD_Release_062015_XF'\n",
    "\n",
    "paths = []\n",
    "for filename in file_directory:\n",
    "    paths.append(os.path.join(file_path,filename))"
   ]
  },
  {
   "cell_type": "code",
   "execution_count": 13,
   "metadata": {},
   "outputs": [
    {
     "output_type": "execute_result",
     "data": {
      "text/plain": "'C:\\\\Users\\\\odhra\\\\Documents\\\\graph_project\\\\allosteric_reasonings\\\\data\\\\raw\\\\ASD\\\\ASD_Release_062015_XF\\\\ASD00020000_1.xml'"
     },
     "metadata": {},
     "execution_count": 13
    }
   ],
   "source": []
  },
  {
   "cell_type": "code",
   "execution_count": 64,
   "metadata": {},
   "outputs": [
    {
     "output_type": "stream",
     "name": "stdout",
     "text": "462\n"
    }
   ],
   "source": [
    "ASD_entries = {}\n",
    "missing = []\n",
    "ASD_ID_list_with_duplicates = []\n",
    "for ASD_file in paths:\n",
    "\n",
    "    try:\n",
    "        root = ET.parse(ASD_file).getroot()\n",
    "        ASD_ID = root.find('Organism_ID').text\n",
    "        for PDB in root.find('PDB_List'):\n",
    "            if PDB[4].text == 'No':\n",
    "                Protein_ID = PDB[1].text\n",
    "            break\n",
    "        Organism = root.find('Organism').text\n",
    "        Gene = root.find('Gene')[0].text\n",
    "        Gene_ID = root.find('Gene')[2].text\n",
    "        \n",
    "        modulator_list = []\n",
    "\n",
    "        try:\n",
    "            for modulators in root.find('Modulator_List'):\n",
    "                modulator_list.append((modulators[0].text, modulators[1].text))    \n",
    "        except:\n",
    "            pass\n",
    "\n",
    "        ASD_entries[ASD_ID] = {\n",
    "            'Protein_ID' : Protein_ID,\n",
    "            'Organism' : Organism,\n",
    "            'Gene' : Gene,\n",
    "            'Gene_ID' : Gene_ID,\n",
    "            'Modulators' : modulator_list\n",
    "        }\n",
    "\n",
    "        ASD_ID_list_with_duplicates.append((ASD_ID))\n",
    "        \n",
    "        \n",
    "    except:\n",
    "        missing.append(ASD_file)\n",
    "\n",
    "print(len(missing))"
   ]
  },
  {
   "cell_type": "code",
   "execution_count": 65,
   "metadata": {},
   "outputs": [
    {
     "output_type": "execute_result",
     "data": {
      "text/plain": "{'Protein_ID': '1QR7',\n 'Organism': 'E.coli',\n 'Gene': 'aroG',\n 'Gene_ID': 'NC_000913',\n 'Modulators': [('ASD00020003', 'Inhibitor'),\n  ('ASD00320001', 'Inhibitor'),\n  ('ASD00690002', 'Inhibitor'),\n  ('ASD02170001', 'Inhibitor')]}"
     },
     "metadata": {},
     "execution_count": 65
    }
   ],
   "source": [
    "ASD_entries['ASD00020000_1']"
   ]
  },
  {
   "cell_type": "code",
   "execution_count": 62,
   "metadata": {},
   "outputs": [
    {
     "output_type": "stream",
     "name": "stdout",
     "text": "1QR7\n"
    }
   ],
   "source": [
    "root = ET.parse(paths[0])\n",
    "for PDB in root.find('PDB_List'):\n",
    "    if PDB[4].text == 'No':\n",
    "        Protein_ID = PDB[1].text\n",
    "    break\n",
    "print(Protein_ID)\n"
   ]
  },
  {
   "cell_type": "code",
   "execution_count": 46,
   "metadata": {},
   "outputs": [
    {
     "output_type": "execute_result",
     "data": {
      "text/plain": "'G7TWB8'"
     },
     "metadata": {},
     "execution_count": 46
    }
   ],
   "source": [
    "Protein_ID"
   ]
  },
  {
   "cell_type": "code",
   "execution_count": 38,
   "metadata": {},
   "outputs": [
    {
     "output_type": "stream",
     "name": "stdout",
     "text": "1QR7\nNo\n1GG1\nNo\n1KFL\nYes\n1N8F\nNo\n"
    }
   ],
   "source": [
    "\n",
    "\n",
    "\n",
    "\n"
   ]
  }
 ],
 "metadata": {
  "language_info": {
   "codemirror_mode": {
    "name": "ipython",
    "version": 3
   },
   "file_extension": ".py",
   "mimetype": "text/x-python",
   "name": "python",
   "nbconvert_exporter": "python",
   "pygments_lexer": "ipython3",
   "version": "3.8.2-final"
  },
  "orig_nbformat": 2,
  "kernelspec": {
   "name": "python38264bitalostericvenvvenve042302d83484289899f1ea331a7aba5",
   "display_name": "Python 3.8.2 64-bit ('.alosteric_venv': venv)"
  }
 },
 "nbformat": 4,
 "nbformat_minor": 2
}