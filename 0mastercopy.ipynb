{
 "cells": [
  {
   "cell_type": "code",
   "execution_count": 38,
   "metadata": {},
   "outputs": [],
   "source": [
    "from models.DistMult import DistMult\n",
    "from models.Complex import Complex\n",
    "from models.ConvE import ConvE, ConvE_args\n",
    "\n",
    "from utils.loaders import load_data, get_onehots\n",
    "from utils.evaluation_metrics import SRR, auprc_auroc_ap\n",
    "\n",
    "import torch\n",
    "import numpy as np\n",
    "from sklearn.utils import shuffle\n",
    "from sklearn.model_selection import train_test_split"
   ]
  },
  {
   "cell_type": "code",
   "execution_count": 48,
   "metadata": {
    "tags": [
     "outputPrepend",
     "outputPrepend",
     "outputPrepend"
    ]
   },
   "outputs": [],
   "source": [
    "def main(model, optimiser, train_data, val_data, epochs, batches):\n",
    "    for epoch in range(epochs):\n",
    "            #training stage \n",
    "            model.train()\n",
    "            objects, subjects, relationships  = load_data(train_data, batches)\n",
    "\n",
    "            for index in range(batches):\n",
    "\n",
    "                obj = torch.LongTensor(objects[index])\n",
    "                rel = torch.LongTensor(relationships[index])\n",
    "                subj = torch.squeeze(torch.LongTensor(subjects[index]))\n",
    "\n",
    "                optimiser.zero_grad()\n",
    "                pred = model.forward(e1 = obj, rel = rel)\n",
    "                loss = model.loss(pred, subj)\n",
    "                loss.backward()\n",
    "                optimiser.step()\n",
    "\n",
    "\n",
    "            #evaluation stage\n",
    "            model.eval()\n",
    "            objects, subjects, relationships  = load_data(val_data, batch_number=1)\n",
    "            total_sum_reciporical_rank = torch.zeros(1)\n",
    "\n",
    "            # for index in range(batches):\n",
    "                # obj = torch.LongTensor(objects[index])\n",
    "                # rel = torch.LongTensor(relationships[index])\n",
    "                # targets = torch.LongTensor(subjects[index])\n",
    "                # predictions = model.forward(e1 = obj, rel = rel)\n",
    "                # srr = SRR(predictions, targets) \n",
    "                # total_sum_reciporical_rank = total_sum_reciporical_rank + srr\n",
    "\n",
    "            obj = torch.squeeze(torch.LongTensor(objects)).unsqueeze(1)\n",
    "            rel = torch.squeeze(torch.LongTensor(relationships)).unsqueeze(1)\n",
    "            targets = torch.squeeze(torch.LongTensor(subjects)).unsqueeze(1)\n",
    "\n",
    "            predictions = model.forward(e1 = obj, rel = rel)\n",
    "            srr = SRR(predictions, targets) \n",
    "            total_sum_reciporical_rank = total_sum_reciporical_rank + srr\n",
    "          \n",
    "            print('mean reciporical rank is...', total_sum_reciporical_rank/ len(val_data))\n",
    "            # print(total_sum_reciporical_rank / len(test_data))\n",
    "\n",
    "            one_hots = get_onehots(targets, entities)\n",
    "            auprc, auroc, ap = auprc_auroc_ap(one_hots, predictions)\n",
    "\n",
    "            print('auroc is...', auroc)\n",
    "            print('auprc is...', auprc)\n",
    "            print('ap@50 is...', ap)\n",
    "\n",
    "    return(total_sum_reciporical_rank, auroc, auprc, ap)\n"
   ]
  },
  {
   "cell_type": "code",
   "execution_count": 40,
   "metadata": {},
   "outputs": [],
   "source": [
    "from utils.path_manage import get_files\n",
    "\n",
    "data, lookup, ASD_dictionary, BCE_dictionary = get_files()\n",
    "entities = int(len(lookup)/2)"
   ]
  },
  {
   "cell_type": "code",
   "execution_count": 41,
   "metadata": {},
   "outputs": [],
   "source": [
    "batches = 5\n",
    "epochs = 10\n",
    "x = shuffle(data)\n",
    "test_data = x[:100] #just limit data to the first n rows"
   ]
  },
  {
   "cell_type": "code",
   "execution_count": 42,
   "metadata": {},
   "outputs": [],
   "source": [
    "X_train, X_test = train_test_split(test_data, test_size=0.1, random_state=1)\n",
    "X_train, X_val = train_test_split(X_train, test_size=0.1111, random_state=1) "
   ]
  },
  {
   "cell_type": "code",
   "execution_count": 43,
   "metadata": {},
   "outputs": [],
   "source": [
    "args = ConvE_args()"
   ]
  },
  {
   "cell_type": "code",
   "execution_count": 44,
   "metadata": {},
   "outputs": [
    {
     "output_type": "stream",
     "name": "stdout",
     "text": "70555 4\n"
    }
   ],
   "source": [
    "# model = DistMult(num_entities = entities, embedding_dim=100, num_relations=4)\n",
    "# model = Complex(num_entities = entities, embedding_dim=100, num_relations=4)\n",
    "model = ConvE(args = args, embedding_dim=200, num_entities=entities, num_relations=4)\n",
    "optimiser = torch.optim.Adam(model.parameters(), lr=0.01)"
   ]
  },
  {
   "cell_type": "code",
   "execution_count": 47,
   "metadata": {},
   "outputs": [
    {
     "output_type": "stream",
     "name": "stdout",
     "text": "mean reciporical rank is... tensor([0.0063])\nauroc is... 0.7255230036567736\nauprc is... 0.00017846182152123834\nap@50 is... 0.000325080969565733\nmean reciporical rank is... tensor([0.0202])\nauroc is... 0.7076012699492586\nauprc is... 0.00030272511232883796\nap@50 is... 0.0004978417684235109\nmean reciporical rank is... tensor([0.1029])\nauroc is... 0.7103224480539729\nauprc is... 0.0013815144285051393\nap@50 is... 0.0024002820517194934\nmean reciporical rank is... tensor([0.1335])\nauroc is... 0.7073590441364062\nauprc is... 0.0073595181265391565\nap@50 is... 0.013968976540632293\nmean reciporical rank is... tensor([0.0649])\nauroc is... 0.7248542960002268\nauprc is... 0.005333839211592712\nap@50 is... 0.009659618084023897\nmean reciporical rank is... tensor([0.0549])\nauroc is... 0.7348279332142756\nauprc is... 0.003011246852842489\nap@50 is... 0.004805235038595428\nmean reciporical rank is... tensor([0.0361])\nauroc is... 0.7416432803242906\nauprc is... 0.0019768342003107344\nap@50 is... 0.002949165744722577\nmean reciporical rank is... tensor([0.0354])\nauroc is... 0.743363664710718\nauprc is... 0.0012417756940125042\nap@50 is... 0.0019087882601044606\nmean reciporical rank is... tensor([0.0518])\nauroc is... 0.7387066643989002\nauprc is... 0.0012293535199637575\nap@50 is... 0.0019455784989141408\nmean reciporical rank is... tensor([0.0518])\nauroc is... 0.7304392380304447\nauprc is... 0.0010889113101326972\nap@50 is... 0.0017603407002413814\n"
    }
   ],
   "source": [
    "total_sum_reciporical_rank, auroc, auprc, ap = main(model=model, optimiser=optimiser, train_data=X_train, val_data=X_val, epochs=epochs, batches=batches)"
   ]
  },
  {
   "cell_type": "code",
   "execution_count": null,
   "metadata": {},
   "outputs": [],
   "source": []
  }
 ],
 "metadata": {
  "language_info": {
   "codemirror_mode": {
    "name": "ipython",
    "version": 3
   },
   "file_extension": ".py",
   "mimetype": "text/x-python",
   "name": "python",
   "nbconvert_exporter": "python",
   "pygments_lexer": "ipython3",
   "version": "3.8.2-final"
  },
  "orig_nbformat": 2,
  "kernelspec": {
   "name": "python38264bitalostericvenvvenve042302d83484289899f1ea331a7aba5",
   "display_name": "Python 3.8.2 64-bit ('.alosteric_venv': venv)"
  }
 },
 "nbformat": 4,
 "nbformat_minor": 2
}