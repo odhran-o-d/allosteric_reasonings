{
 "cells": [
  {
   "cell_type": "code",
   "execution_count": null,
   "metadata": {},
   "outputs": [],
   "source": [
    "from Bio.PDB import *\n",
    "parser = PDBParser()\n",
    "from tqdm import tqdm"
   ]
  },
  {
   "cell_type": "code",
   "execution_count": null,
   "metadata": {},
   "outputs": [],
   "source": [
    "import torch\n",
    "from torch_geometric.data import *"
   ]
  },
  {
   "cell_type": "code",
   "execution_count": null,
   "metadata": {},
   "outputs": [],
   "source": [
    "def get_one_hot_dictionary(keys):\n",
    "    vector_size = len(keys)\n",
    "    dictionary = {}\n",
    "    for x_index, x in enumerate(keys):\n",
    "        one_hot = [0] * (vector_size-1)\n",
    "        one_hot.insert(x_index,1)\n",
    "        dictionary[x] = one_hot\n",
    "    return dictionary"
   ]
  },
  {
   "cell_type": "code",
   "execution_count": null,
   "metadata": {},
   "outputs": [],
   "source": [
    "keys = Polypeptide.d3_to_index.keys()\n",
    "hot_dick = get_one_hot_dictionary(keys)"
   ]
  },
  {
   "cell_type": "code",
   "execution_count": null,
   "metadata": {},
   "outputs": [],
   "source": [
    "def get_residue_list(chain):\n",
    "    return [res for res in chain if res.resname in Polypeptide.d3_to_index.keys()]\n",
    "\n",
    "def get_covalent_edges(residues):\n",
    "    return [[index, index-1] for index, x in enumerate(residues) if x._id[1] == ((residues[index-1]._id[1])+1)]\n",
    "\n",
    "def check_proximity(residue_one, residue_two, max_distance = 8) :\n",
    "    \"\"\"Returns the C-alpha distance between two residues\"\"\"\n",
    "    '''C BETA IS PREFEREABLE BUT NEEDS GLYCINE ENCODING'''\n",
    "    diff_vector  = residue_one[\"CA\"].coord - residue_two[\"CA\"].coord\n",
    "    euclidian_distance = numpy.sqrt(numpy.sum(diff_vector * diff_vector))\n",
    "    if euclidian_distance < max_distance:     \n",
    "        return True\n",
    "    else:\n",
    "        return False"
   ]
  },
  {
   "cell_type": "code",
   "execution_count": null,
   "metadata": {},
   "outputs": [],
   "source": [
    "def get_graph(residues):\n",
    "    processed_residues = get_residue_list(residues)\n",
    "    covalent_edges = get_covalent_edges(processed_residues)\n",
    "    proximal_edges = [] \n",
    "    for x_index, x in enumerate(processed_residues):\n",
    "        for y_index, y in enumerate(processed_residues):\n",
    "            if y_index >= x_index + 5: \n",
    "                if y > x:\n",
    "                    if check_proximity(x, y):\n",
    "                        proximal_edges.append([x_index,y_index])\n",
    "\n",
    "    all_edges = covalent_edges + proximal_edges\n",
    "    node_features = [hot_dick[res.resname] for res in processed_residues]\n",
    "    edge_index = torch.tensor(all_edges, dtype=torch.long)\n",
    "    node_data = torch.tensor(node_features, dtype=torch.float)\n",
    "    # print(node_data.shape)\n",
    "    graph = Data(x = node_data, edge_index=edge_index.t().contiguous())\n",
    "    return graph"
   ]
  },
  {
   "cell_type": "code",
   "execution_count": null,
   "metadata": {
    "tags": [
     "outputPrepend"
    ]
   },
   "outputs": [],
   "source": [
    "graph_list = []\n",
    "\n",
    "for oof in tqdm(range(2000)):\n",
    "    structure = parser.get_structure('ATP', '1ATP.pdb')\n",
    "    model = structure[0]\n",
    "    residues = structure.get_residues()\n",
    "    graph = get_graph(residues)\n",
    "    graph_list.append(graph)\n",
    "\n",
    "loader = DataLoader(graph_list, batch_size=200)"
   ]
  }
 ],
 "metadata": {
  "language_info": {
   "codemirror_mode": {
    "name": "ipython",
    "version": 3
   },
   "file_extension": ".py",
   "mimetype": "text/x-python",
   "name": "python",
   "nbconvert_exporter": "python",
   "pygments_lexer": "ipython3",
   "version": "3.8.2-final"
  },
  "orig_nbformat": 2,
  "kernelspec": {
   "name": "python38264bitalostericvenvvenve042302d83484289899f1ea331a7aba5",
   "display_name": "Python 3.8.2 64-bit ('.alosteric_venv': venv)"
  }
 },
 "nbformat": 4,
 "nbformat_minor": 2
}