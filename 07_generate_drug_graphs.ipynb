{
 "cells": [
  {
   "cell_type": "code",
   "execution_count": 1,
   "metadata": {},
   "outputs": [],
   "source": [
    "import gzip\n",
    "import shutil\n",
    "import urllib.request\n",
    "from tqdm import tqdm"
   ]
  },
  {
   "cell_type": "code",
   "execution_count": 2,
   "metadata": {},
   "outputs": [],
   "source": [
    "from utils.path_manage import get_files\n",
    "data, lookup, ASD_dictionary, BCE_dictionary, _, __ = get_files()"
   ]
  },
  {
   "cell_type": "code",
   "execution_count": 3,
   "metadata": {},
   "outputs": [],
   "source": [
    "import torch\n",
    "from torch_geometric.data import * "
   ]
  },
  {
   "cell_type": "code",
   "execution_count": null,
   "metadata": {},
   "outputs": [],
   "source": [
    "def get_graph_files(ASD_molecule):\n",
    "    urllib.request.urlretrieve(\"http://202.120.143.190/ASD2015Common/static_file//modulator/mol_stru/mol_2d_gz/{}.mol.gz\".format(ASD_molecule), 'Drug_zips/{}.mol.gz'.format(ASD_molecule)) \n",
    "    with gzip.open('Drug_zips/{}.mol.gz'.format(ASD_molecule), 'rb') as f_in:\n",
    "        with open('Drug_files/{}.mol'.format(ASD_molecule), 'wb') as f_out:\n",
    "            shutil.copyfileobj(f_in, f_out)\n",
    "\n",
    "def read_graph(ASD_molecule):\n",
    "    with open('Drug_files/{}.mol'.format(ASD_molecule), 'r') as text:\n",
    "        lines = text.readlines()\n",
    "    return lines\n",
    "\n",
    "def graph_info(lines):\n",
    "    no_atoms = int(lines[3].split()[0])\n",
    "    atoms = [atom.split()[3] for atom in lines[4:no_atoms+4]]\n",
    "    bonds = [[int(bond.split()[0]), int(bond.split()[1])] for bond in lines[no_atoms+4:-1]]\n",
    "    bond_weights = [float(bond.split()[2])/2 for bond in lines[no_atoms+4:-1]]\n",
    "    torch_atoms = torch.tensor(atoms, dtype=torch.long)\n",
    "    torch_bonds = torch.tensor(bonds, dtype=torch.long)\n",
    "    torch_bond_weights = None \n",
    "    \n",
    "    return torch_atoms "
   ]
  },
  {
   "cell_type": "code",
   "execution_count": 6,
   "metadata": {},
   "outputs": [],
   "source": [
    "ASD_molecule_list = list(set([lookup[x[0]] for x in data]))"
   ]
  },
  {
   "cell_type": "code",
   "execution_count": 7,
   "metadata": {},
   "outputs": [],
   "source": [
    "# for ASD_molecule in tqdm(ASD_molecule_list):\n",
    "#     try:\n",
    "#         get_graph_files(ASD_molecule)\n",
    "#     except:\n",
    "#         print(ASD_molecule, ' missing')\n",
    "\n",
    "# re-download 37650 to 37758\n",
    "\n",
    "# for ASD_molecule in tqdm(ASD_molecule_list[37650:37758]):\n",
    "#     try:\n",
    "#         get_graph_files(ASD_molecule)\n",
    "#     except:\n",
    "#         print(ASD_molecule, ' missing')"
   ]
  },
  {
   "cell_type": "code",
   "execution_count": 8,
   "metadata": {},
   "outputs": [
    {
     "output_type": "stream",
     "name": "stderr",
     "text": "100%|██████████| 50389/50389 [18:49<00:00, 44.63it/s]\n"
    }
   ],
   "source": [
    "atom_set = set()\n",
    "\n",
    "for ASD_molecule in tqdm(ASD_molecule_list):\n",
    "    try:\n",
    "        with open('Drug_files/{}.mol'.format(ASD_molecule), 'r') as text:\n",
    "            lines = text.readlines()\n",
    "        no_atoms = int(lines[3].split()[0])\n",
    "        atoms = [atom.split()[3] for atom in lines[4:no_atoms+4]]\n",
    "        [atom_set.add(atom) for atom in atoms]\n",
    "    except:\n",
    "        pass"
   ]
  },
  {
   "cell_type": "code",
   "execution_count": null,
   "metadata": {},
   "outputs": [],
   "source": [
    "atom_set = {'C', 'Zn', 'S', 'Mg', 'Rb', 'Cs', 'La', 'Pb', 'Fe', '*', 'Br', 'Pd', 'Be', 'F', 'P', 'Sn', 'As', 'Eu', 'Mn', 'Cd', 'O', 'K', 'W', 'Ba', 'Sr', 'Tb', 'Cl', 'R', 'U', 'Cu', 'Li', 'Ca', 'A', 'Na', 'Si', 'Co', 'N', 'Al', 'H', 'Tl', 'B', 'I', 'D', 'Se', 'Ar', 'Ni', 'T'}"
   ]
  },
  {
   "cell_type": "code",
   "execution_count": 39,
   "metadata": {},
   "outputs": [],
   "source": [
    "from sklearn.preprocessing import OneHotEncoder\n",
    "enc = OneHotEncoder()\n",
    "atoms = np.array(list(atom_set)).reshape(-1,1)\n",
    "enc.fit(atoms)"
   ]
  },
  {
   "cell_type": "code",
   "execution_count": 40,
   "metadata": {},
   "outputs": [],
   "source": [
    "import numpy as np\n"
   ]
  },
  {
   "cell_type": "code",
   "execution_count": 41,
   "metadata": {},
   "outputs": [
    {
     "output_type": "execute_result",
     "data": {
      "text/plain": "(47, 1)"
     },
     "metadata": {},
     "execution_count": 41
    }
   ],
   "source": [
    "enc.transform(atoms).toarray()"
   ]
  }
 ],
 "metadata": {
  "language_info": {
   "codemirror_mode": {
    "name": "ipython",
    "version": 3
   },
   "file_extension": ".py",
   "mimetype": "text/x-python",
   "name": "python",
   "nbconvert_exporter": "python",
   "pygments_lexer": "ipython3",
   "version": "3.8.2-final"
  },
  "orig_nbformat": 2,
  "kernelspec": {
   "name": "python38264bitalostericvenvvenve042302d83484289899f1ea331a7aba5",
   "display_name": "Python 3.8.2 64-bit ('.alosteric_venv': venv)"
  }
 },
 "nbformat": 4,
 "nbformat_minor": 2
}