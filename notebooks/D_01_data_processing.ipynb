{
 "cells": [
  {
   "cell_type": "code",
   "execution_count": 139,
   "metadata": {},
   "outputs": [],
   "source": [
    "import xml.etree.ElementTree as ET\n",
    "import os, os.path\n"
   ]
  },
  {
   "cell_type": "markdown",
   "metadata": {},
   "source": [
    "## you are currently overriding entries on the same protein in different organisms! This is occuring around 10 times"
   ]
  },
  {
   "cell_type": "code",
   "execution_count": 140,
   "metadata": {},
   "outputs": [],
   "source": [
    "file_directory = os.listdir(r'C:\\Users\\odhra\\Documents\\graph_project\\allosteric_reasonings\\data\\raw\\ASD\\ASD_Release_062015_XF')"
   ]
  },
  {
   "cell_type": "code",
   "execution_count": 141,
   "metadata": {},
   "outputs": [],
   "source": [
    "file_path = r'C:\\Users\\odhra\\Documents\\graph_project\\allosteric_reasonings\\data\\raw\\ASD\\ASD_Release_062015_XF'"
   ]
  },
  {
   "cell_type": "code",
   "execution_count": 142,
   "metadata": {},
   "outputs": [],
   "source": [
    "paths = []\n",
    "for filename in file_directory:\n",
    "    paths.append(os.path.join(file_path,filename))\n"
   ]
  },
  {
   "cell_type": "code",
   "execution_count": 143,
   "metadata": {
    "tags": [
     "outputPrepend",
     "outputPrepend",
     "outputPrepend",
     "outputPrepend",
     "outputPrepend",
     "outputPrepend",
     "outputPrepend",
     "outputPrepend",
     "outputPrepend",
     "outputPrepend",
     "outputPrepend"
    ]
   },
   "outputs": [
    {
     "output_type": "stream",
     "name": "stdout",
     "text": "43\n"
    }
   ],
   "source": [
    "entries = {}\n",
    "missing = []\n",
    "Protein_ID_list = []\n",
    "for ASD_file in paths:\n",
    "\n",
    "    try:\n",
    "        root = ET.parse(ASD_file).getroot()\n",
    "        Protein_ID = root.find('UniProt_ID').text\n",
    "        Organism = root.find('Organism').text\n",
    "        Gene = root.find('Gene')[0].text\n",
    "        Gene_ID = root.find('Gene')[2].text\n",
    "        \n",
    "        modulator_list = []\n",
    "\n",
    "        try:\n",
    "            for modulators in root.find('Modulator_List'):\n",
    "                modulator_list.append((modulators[0].text, modulators[1].text))    \n",
    "        except:\n",
    "            pass\n",
    "\n",
    "        entries[Protein_ID] = {\n",
    "            'Organism' : Organism,\n",
    "            'Gene' : Gene,\n",
    "            'Gene_ID' : Gene_ID,\n",
    "            'Modulators' : modulator_list\n",
    "        }\n",
    "\n",
    "        Protein_ID_list.append((Protein_ID))\n",
    "        \n",
    "        \n",
    "    except:\n",
    "        missing.append(ASD_file)\n",
    "\n",
    "print(len(missing))\n"
   ]
  },
  {
   "cell_type": "code",
   "execution_count": 159,
   "metadata": {},
   "outputs": [],
   "source": [
    "Protein_ID_list = list(dict.fromkeys(Protein_ID_list))"
   ]
  },
  {
   "cell_type": "code",
   "execution_count": 160,
   "metadata": {},
   "outputs": [
    {
     "output_type": "stream",
     "name": "stdout",
     "text": "1426\n"
    }
   ],
   "source": [
    "print(len(Protein_ID_list))"
   ]
  },
  {
   "cell_type": "code",
   "execution_count": 162,
   "metadata": {},
   "outputs": [
    {
     "output_type": "execute_result",
     "data": {
      "text/plain": "'P0AB91'"
     },
     "metadata": {},
     "execution_count": 162
    }
   ],
   "source": [
    "Protein_ID_list[0]"
   ]
  },
  {
   "cell_type": "code",
   "execution_count": 169,
   "metadata": {},
   "outputs": [
    {
     "output_type": "execute_result",
     "data": {
      "text/plain": "[('ASD00020003', 'Inhibitor'),\n ('ASD00320001', 'Inhibitor'),\n ('ASD00690002', 'Inhibitor'),\n ('ASD02170001', 'Inhibitor')]"
     },
     "metadata": {},
     "execution_count": 169
    }
   ],
   "source": [
    "entries['P0AB91']['Modulators']"
   ]
  },
  {
   "cell_type": "code",
   "execution_count": 203,
   "metadata": {},
   "outputs": [],
   "source": [
    "edge_list_with_IDs = []\n",
    "for protein in Protein_ID_list:\n",
    "    interactions = entries[protein]['Modulators']\n",
    "    for ASD in interactions:\n",
    "        edge_list_with_IDs.append([protein, ASD[0], ASD[1]])\n"
   ]
  },
  {
   "cell_type": "code",
   "execution_count": 204,
   "metadata": {},
   "outputs": [],
   "source": [
    "nodes= list(set([item[0] for item in edge_list_with_IDs] + [item[1] for item in edge_list_with_IDs]))"
   ]
  },
  {
   "cell_type": "code",
   "execution_count": 205,
   "metadata": {},
   "outputs": [],
   "source": [
    "node_hash_map = {}\n",
    "for node_index, node in enumerate(nodes):\n",
    "    \n",
    "    node_hash_map[node] = node_index"
   ]
  },
  {
   "cell_type": "code",
   "execution_count": 206,
   "metadata": {},
   "outputs": [
    {
     "output_type": "execute_result",
     "data": {
      "text/plain": "1"
     },
     "metadata": {},
     "execution_count": 206
    }
   ],
   "source": [
    "node_hash_map['ASD01811158']"
   ]
  },
  {
   "cell_type": "code",
   "execution_count": 207,
   "metadata": {},
   "outputs": [],
   "source": [
    "edge_list = []\n",
    "for protein in Protein_ID_list:\n",
    "    interactions = entries[protein]['Modulators']\n",
    "    for ASD in interactions:\n",
    "        edge_list.append([\n",
    "            node_hash_map[protein],\n",
    "            node_hash_map[ASD[0]],\n",
    "             ASD[1]])\n"
   ]
  },
  {
   "cell_type": "code",
   "execution_count": null,
   "metadata": {},
   "outputs": [],
   "source": []
  },
  {
   "cell_type": "code",
   "execution_count": 156,
   "metadata": {},
   "outputs": [
    {
     "output_type": "stream",
     "name": "stdout",
     "text": "1426\n"
    }
   ],
   "source": [
    "print(len(entries))"
   ]
  },
  {
   "cell_type": "code",
   "execution_count": 144,
   "metadata": {},
   "outputs": [
    {
     "output_type": "stream",
     "name": "stdout",
     "text": "{'ASD05550002': 'Regulator', 'ASD06980001': 'Regulator'}\n"
    }
   ],
   "source": [
    "    modulator_dict = {}\n",
    "    for modulators in root.find('Modulator_List'):\n",
    "        modulator_dict[modulators[0].text] = modulators[1].text\n",
    "    print(modulator_dict)"
   ]
  },
  {
   "cell_type": "code",
   "execution_count": 145,
   "metadata": {},
   "outputs": [
    {
     "output_type": "stream",
     "name": "stdout",
     "text": "[('ASD05550002', 'Regulator'), ('ASD06980001', 'Regulator')]\n"
    }
   ],
   "source": [
    "    modulator_list = []\n",
    "    for modulators in root.find('Modulator_List'):\n",
    "        modulator_list.append((modulators[0].text, modulators[1].text))\n",
    "    print(modulator_list)"
   ]
  },
  {
   "cell_type": "code",
   "execution_count": 146,
   "metadata": {},
   "outputs": [
    {
     "output_type": "error",
     "ename": "SyntaxError",
     "evalue": "invalid syntax (<ipython-input-146-4d131ce30d24>, line 1)",
     "traceback": [
      "\u001b[1;36m  File \u001b[1;32m\"<ipython-input-146-4d131ce30d24>\"\u001b[1;36m, line \u001b[1;32m1\u001b[0m\n\u001b[1;33m    dictionary =\u001b[0m\n\u001b[1;37m                 ^\u001b[0m\n\u001b[1;31mSyntaxError\u001b[0m\u001b[1;31m:\u001b[0m invalid syntax\n"
     ]
    }
   ],
   "source": [
    "dictionary = "
   ]
  },
  {
   "cell_type": "code",
   "execution_count": 147,
   "metadata": {},
   "outputs": [
    {
     "output_type": "execute_result",
     "data": {
      "text/plain": "'G7TWB8'"
     },
     "metadata": {},
     "execution_count": 147
    }
   ],
   "source": [
    "root.find('UniProt_ID').text"
   ]
  },
  {
   "cell_type": "code",
   "execution_count": 148,
   "metadata": {},
   "outputs": [
    {
     "output_type": "error",
     "ename": "TypeError",
     "evalue": "'NoneType' object is not subscriptable",
     "traceback": [
      "\u001b[1;31m---------------------------------------------------------------------------\u001b[0m",
      "\u001b[1;31mTypeError\u001b[0m                                 Traceback (most recent call last)",
      "\u001b[1;32m<ipython-input-148-9cc9fc63548f>\u001b[0m in \u001b[0;36m<module>\u001b[1;34m\u001b[0m\n\u001b[1;32m----> 1\u001b[1;33m \u001b[0mroot\u001b[0m\u001b[1;33m.\u001b[0m\u001b[0mfind\u001b[0m\u001b[1;33m(\u001b[0m\u001b[1;34m'Alias_List'\u001b[0m\u001b[1;33m)\u001b[0m\u001b[1;33m[\u001b[0m\u001b[1;36m0\u001b[0m\u001b[1;33m]\u001b[0m\u001b[1;33m.\u001b[0m\u001b[0mtext\u001b[0m\u001b[1;33m\u001b[0m\u001b[1;33m\u001b[0m\u001b[0m\n\u001b[0m",
      "\u001b[1;31mTypeError\u001b[0m: 'NoneType' object is not subscriptable"
     ]
    }
   ],
   "source": [
    "root.find('Alias_List')[0].text"
   ]
  },
  {
   "cell_type": "code",
   "execution_count": null,
   "metadata": {},
   "outputs": [],
   "source": []
  },
  {
   "cell_type": "code",
   "execution_count": 149,
   "metadata": {},
   "outputs": [
    {
     "output_type": "stream",
     "name": "stdout",
     "text": "<Element 'Modulator' at 0x0000013A5E432540>\n<Element 'Modulator' at 0x0000013A5E432310>\n"
    }
   ],
   "source": [
    "for modulator_compounds in root.find('Modulator_List'):\n",
    "    print(modulator_compounds)\n",
    "    "
   ]
  },
  {
   "cell_type": "code",
   "execution_count": 150,
   "metadata": {},
   "outputs": [
    {
     "output_type": "stream",
     "name": "stdout",
     "text": "ASD05550002\nRegulator\nASD06980001\nRegulator\n"
    }
   ],
   "source": [
    "for modulator_compounds in root.find('Modulator_List'):\n",
    "    print(modulator_compounds[0].text)\n",
    "    print(modulator_compounds[1].text)"
   ]
  },
  {
   "cell_type": "code",
   "execution_count": 151,
   "metadata": {},
   "outputs": [
    {
     "output_type": "stream",
     "name": "stdout",
     "text": "2\n"
    }
   ],
   "source": [
    "print(len(root.find('Modulator_List')))"
   ]
  },
  {
   "cell_type": "code",
   "execution_count": 152,
   "metadata": {},
   "outputs": [
    {
     "output_type": "stream",
     "name": "stdout",
     "text": "<Element 'Organism_ID' at 0x0000013A5E5F9A90>\n<Element 'Organism' at 0x0000013A5E5F9130>\n<Element 'Organism_Latin' at 0x0000013A5E5F9680>\n<Element 'UniProt_ID' at 0x0000013A5E5F9630>\n<Element 'Rfam_ID' at 0x0000013A5E5F9180>\n<Element 'Allosteric_Activator_Count' at 0x0000013A5FFD2C20>\n<Element 'Allosteric_Inhibitor_Count' at 0x0000013A5FFD2F90>\n<Element 'Allosteric_Regulator_Count' at 0x0000013A5FFD2590>\n<Element 'Molecule_Seq' at 0x0000013A5FFD2D10>\n<Element 'Gene' at 0x0000013A5FFD2B30>\n<Element 'PDB_List' at 0x0000013A5FFD2680>\n<Element 'AllostericSite_List' at 0x0000013A5E432DB0>\n<Element 'Enzyme_Nomenclature_List' at 0x0000013A5E4324F0>\n<Element 'Modulator_List' at 0x0000013A5E432BD0>\n<Element 'Create_Date' at 0x0000013A5E432900>\n"
    }
   ],
   "source": [
    "for child in root:\n",
    "    print(child)"
   ]
  }
 ],
 "metadata": {
  "language_info": {
   "codemirror_mode": {
    "name": "ipython",
    "version": 3
   },
   "file_extension": ".py",
   "mimetype": "text/x-python",
   "name": "python",
   "nbconvert_exporter": "python",
   "pygments_lexer": "ipython3",
   "version": "3.8.2-final"
  },
  "orig_nbformat": 2,
  "kernelspec": {
   "name": "python38264bitalostericvenvvenve042302d83484289899f1ea331a7aba5",
   "display_name": "Python 3.8.2 64-bit ('.alosteric_venv': venv)"
  }
 },
 "nbformat": 4,
 "nbformat_minor": 2
}