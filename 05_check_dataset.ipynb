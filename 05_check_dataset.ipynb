{
 "cells": [
  {
   "cell_type": "code",
   "execution_count": null,
   "metadata": {},
   "outputs": [],
   "source": [
    "import numpy as np"
   ]
  },
  {
   "cell_type": "markdown",
   "metadata": {},
   "source": [
    "## Below code is checking intersectional data. as you can see, it's pretty intersectional. "
   ]
  },
  {
   "cell_type": "code",
   "execution_count": null,
   "metadata": {},
   "outputs": [],
   "source": [
    "from utils.path_manage import *"
   ]
  },
  {
   "cell_type": "code",
   "execution_count": null,
   "metadata": {},
   "outputs": [],
   "source": [
    "data, _, _, _, _, _ = get_files()"
   ]
  },
  {
   "cell_type": "code",
   "execution_count": null,
   "metadata": {},
   "outputs": [],
   "source": [
    "unique_drugs, tally_drugs = np.unique(data[:,0], return_counts=True)\n",
    "non_unique_drugs = unique_drugs[tally_drugs > 1]"
   ]
  },
  {
   "cell_type": "code",
   "execution_count": null,
   "metadata": {},
   "outputs": [],
   "source": [
    "drug_indices = [np.where(data[:,0] == x) for x in non_unique_drugs]\n",
    "drug_index_list = np.squeeze(np.hstack(indices))\n",
    "len(drug_index_list)"
   ]
  },
  {
   "cell_type": "code",
   "execution_count": null,
   "metadata": {},
   "outputs": [],
   "source": [
    "unique_proteins, tally_proteins = np.unique(data[:,2], return_counts=True)\n",
    "non_unique_proteins = unique_proteins[tally_proteins > 1]"
   ]
  },
  {
   "cell_type": "code",
   "execution_count": null,
   "metadata": {},
   "outputs": [],
   "source": [
    "drug_indices = [np.where(data[:,2] == x) for x in non_unique_proteins]\n",
    "protein_index_list = np.squeeze(np.hstack(indices_intersection))\n",
    "len(protein_index_list)"
   ]
  },
  {
   "cell_type": "code",
   "execution_count": null,
   "metadata": {},
   "outputs": [],
   "source": [
    "intersection_indecies = np.intersect1d(drug_index_list, protein_index_list)\n",
    "len(intersection_indecies)"
   ]
  },
  {
   "cell_type": "code",
   "execution_count": null,
   "metadata": {},
   "outputs": [],
   "source": [
    "total_indices_intersection = data[intersection_indecies]"
   ]
  },
  {
   "cell_type": "code",
   "execution_count": null,
   "metadata": {},
   "outputs": [],
   "source": [
    "total_indices_intersection.shape"
   ]
  },
  {
   "cell_type": "code",
   "execution_count": null,
   "metadata": {},
   "outputs": [],
   "source": [
    "def get_adj_mask(max_nodes, graph):\n",
    "    num_nodes = graph.num_nodes\n",
    "    mask = np.zeros([max_nodes,max_nodes], dtype = bool)\n",
    "    mask[0:num_nodes][0:num_nodes] = True\n",
    "    \n",
    "    adjacency = np.zeros([max_nodes,max_nodes]) # Check if Dtype int is needed! \n",
    "    edges = graph.edge_thingy\n",
    "    for edge in edges:\n",
    "        adjacency[edge[0]][edge[1]] = 1\n"
   ]
  }
 ],
 "metadata": {
  "language_info": {
   "codemirror_mode": {
    "name": "ipython",
    "version": 3
   },
   "file_extension": ".py",
   "mimetype": "text/x-python",
   "name": "python",
   "nbconvert_exporter": "python",
   "pygments_lexer": "ipython3",
   "version": "3.8.2-final"
  },
  "orig_nbformat": 2,
  "kernelspec": {
   "name": "python38264bitalostericvenvvenve042302d83484289899f1ea331a7aba5",
   "display_name": "Python 3.8.2 64-bit ('.alosteric_venv': venv)"
  }
 },
 "nbformat": 4,
 "nbformat_minor": 2
}