{
 "cells": [
  {
   "cell_type": "code",
   "execution_count": null,
   "metadata": {},
   "outputs": [],
   "source": [
    "import torch\n",
    "from torch_geometric.data import Data\n",
    "import torch.nn.functional as F\n",
    "from torch_geometric.nn import GCNConv, RGCNConv\n",
    "\n",
    "from utils.path_manage import get_files"
   ]
  },
  {
   "cell_type": "code",
   "execution_count": null,
   "metadata": {},
   "outputs": [],
   "source": [
    "triplets, lookup, ASD_dictionary, BCE_dictionary, Edge_list, Edge_features = get_files()\n",
    "edge_index = torch.tensor(Edge_list, dtype=torch.long)\n",
    "edge_features = torch.tensor(Edge_features, dtype=torch.float)\n",
    "edge_type = torch.tensor([x.index(max(x)) for x in Edge_features], dtype=torch.long)"
   ]
  },
  {
   "cell_type": "code",
   "execution_count": null,
   "metadata": {},
   "outputs": [],
   "source": [
    "print(edge_index[0:10])\n",
    "print(triplets[0])"
   ]
  },
  {
   "cell_type": "code",
   "execution_count": null,
   "metadata": {},
   "outputs": [],
   "source": [
    "data = Data(edge_index=edge_index[0:10].t().contiguous(), edge_attr=edge_features[0:10], edge_type=edge_type[0:10])"
   ]
  },
  {
   "cell_type": "code",
   "execution_count": null,
   "metadata": {},
   "outputs": [],
   "source": [
    "data.edge_index[1]"
   ]
  },
  {
   "cell_type": "code",
   "execution_count": null,
   "metadata": {},
   "outputs": [],
   "source": [
    "# this code is designed for graph classification not link prediction. \n",
    "\n",
    "class Net(torch.nn.Module):\n",
    "    def __init__(self, data, hidden_dim):\n",
    "        super(Net, self).__init__()\n",
    "\n",
    "# Should add embedding layer at start\n",
    "\n",
    "        self.conv1 = RGCNConv(in_channels=data.num_nodes, out_channels=hidden_dim, num_relations=data.num_edge_features, num_bases=30)\n",
    "        self.conv2 = RGCNConv(in_channels=hidden_dim, out_channels=hidden_dim, num_relations=data.num_edge_features, num_bases=30)\n",
    "        \n",
    "        \n",
    "        # should maybe make this an embedding layer too? idk. \n",
    "        self.w_relation = torch.nn.Parameter(torch.Tensor(data.num_edge_features+1, hidden_dim))\n",
    "\n",
    "    def forward(self, edge_index, edge_type):\n",
    "\n",
    "        # Should ad embedding layer \n",
    "        x = F.relu(self.conv1(None, data.edge_index, data.edge_type))\n",
    "        x = self.conv2(x, edge_index, edge_type)\n",
    "        return x\n",
    "\n",
    "    def distmult(self, embedding, triplets):\n",
    "        s = embedding[triplets[:,0]]\n",
    "        print(s)\n",
    "        r = self.w_relation[triplets[:,1]]\n",
    "        print(r)\n",
    "        o = embedding[triplets[:,2]]\n",
    "        print(o)\n",
    "        score = torch.sum(s * r * o, dim=1)\n",
    "        return score\n",
    "        \n",
    "\n",
    "\n",
    "model = Net(data=data, hidden_dim = 100)\n",
    "model.parameters"
   ]
  },
  {
   "cell_type": "code",
   "execution_count": null,
   "metadata": {},
   "outputs": [],
   "source": [
    "out = model(data.edge_index, data.edge_type)"
   ]
  },
  {
   "cell_type": "code",
   "execution_count": null,
   "metadata": {},
   "outputs": [],
   "source": [
    "triplets[0:2]"
   ]
  },
  {
   "cell_type": "code",
   "execution_count": null,
   "metadata": {},
   "outputs": [],
   "source": [
    "distmult = model.distmult(out, triplets[0:1])\n",
    "print(distmult)"
   ]
  },
  {
   "cell_type": "code",
   "execution_count": null,
   "metadata": {},
   "outputs": [],
   "source": [
    "model"
   ]
  },
  {
   "cell_type": "code",
   "execution_count": null,
   "metadata": {},
   "outputs": [],
   "source": [
    "for param in model.parameters():\n",
    "    print(type(param.data), param.size())"
   ]
  },
  {
   "cell_type": "code",
   "execution_count": null,
   "metadata": {},
   "outputs": [],
   "source": [
    "out = model(data.edge_index, data.edge_type)\n",
    "# this is a call to the forward function!!!"
   ]
  },
  {
   "cell_type": "code",
   "execution_count": null,
   "metadata": {},
   "outputs": [],
   "source": [
    "# okay so your model gives out node embeddings. Now to do a distmult on these bad boys.  "
   ]
  },
  {
   "cell_type": "code",
   "execution_count": null,
   "metadata": {},
   "outputs": [],
   "source": [
    "import os.path as osp\n",
    "\n",
    "import torch\n",
    "import torch.nn.functional as F\n",
    "from torch_geometric.datasets import Entities\n",
    "from torch_geometric.nn import RGCNConv\n",
    "\n",
    "name = 'MUTAG'\n",
    "path = osp.join(\n",
    "    osp.dirname(osp.realpath('__file__')), '..', 'data', 'Entities', name)\n",
    "dataset = Entities(path, name)\n",
    "data = dataset[0]"
   ]
  },
  {
   "cell_type": "code",
   "execution_count": null,
   "metadata": {},
   "outputs": [],
   "source": [
    "class Net(torch.nn.Module):\n",
    "    def __init__(self):\n",
    "        super(Net, self).__init__()\n",
    "        self.conv1 = RGCNConv(\n",
    "            data.num_nodes, 16, dataset.num_relations, num_bases=30)\n",
    "        self.conv2 = RGCNConv(\n",
    "            16, dataset.num_classes, dataset.num_relations, num_bases=30)\n",
    "\n",
    "    def forward(self, edge_index, edge_type, edge_norm):\n",
    "        x = F.relu(self.conv1(None, edge_index, edge_type))\n",
    "        x = self.conv2(x, edge_index, edge_type)\n",
    "        return F.log_softmax(x, dim=1)\n",
    "\n",
    "device = torch.device('cuda' if torch.cuda.is_available() else 'cpu')\n",
    "model, data = Net().to(device), data.to(device)\n",
    "print(model.parameters)\n",
    "optimizer = torch.optim.Adam(model.parameters(), lr=0.01, weight_decay=0.0005)\n",
    "\n",
    "\n",
    "def train():\n",
    "    model.train()\n",
    "    optimizer.zero_grad()\n",
    "    out = model(data.edge_index, data.edge_type, data.edge_norm)\n",
    "    print(out)\n",
    "    F.nll_loss(out[data.train_idx], data.train_y).backward()\n",
    "    print(data.train_idx)\n",
    "    print(out[data.train_idx])\n",
    "    optimizer.step()"
   ]
  }
 ],
 "metadata": {
  "language_info": {
   "codemirror_mode": {
    "name": "ipython",
    "version": 3
   },
   "file_extension": ".py",
   "mimetype": "text/x-python",
   "name": "python",
   "nbconvert_exporter": "python",
   "pygments_lexer": "ipython3",
   "version": "3.8.2-final"
  },
  "orig_nbformat": 2,
  "kernelspec": {
   "name": "python38264bitalostericvenvvenve042302d83484289899f1ea331a7aba5",
   "display_name": "Python 3.8.2 64-bit ('.alosteric_venv': venv)"
  }
 },
 "nbformat": 4,
 "nbformat_minor": 2
}