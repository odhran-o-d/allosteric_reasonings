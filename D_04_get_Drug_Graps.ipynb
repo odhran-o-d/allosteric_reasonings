{
 "cells": [
  {
   "cell_type": "code",
   "execution_count": 1,
   "metadata": {},
   "outputs": [],
   "source": [
    "import gzip\n",
    "import shutil\n",
    "import urllib.request\n",
    "from tqdm import tqdm"
   ]
  },
  {
   "cell_type": "code",
   "execution_count": 2,
   "metadata": {},
   "outputs": [],
   "source": [
    "from utils.path_manage import get_files\n",
    "data, lookup, ASD_dictionary, BCE_dictionary, _, __ = get_files()"
   ]
  },
  {
   "cell_type": "code",
   "execution_count": 3,
   "metadata": {},
   "outputs": [],
   "source": [
    "def get_graph_files(ASD_molecule):\n",
    "    urllib.request.urlretrieve(\"http://202.120.143.190/ASD2015Common/static_file//modulator/mol_stru/mol_2d_gz/{}.mol.gz\".format(ASD_molecule), 'Drug_zips/{}.mol.gz'.format(ASD_molecule)) \n",
    "    with gzip.open('Drug_zips/{}.mol.gz'.format(ASD_molecule), 'rb') as f_in:\n",
    "        with open('Drug_files/{}.mol'.format(ASD_molecule), 'wb') as f_out:\n",
    "            shutil.copyfileobj(f_in, f_out)\n",
    "\n",
    "def read_graph(ASD_molecule):\n",
    "    with open('Drug_files/{}.mol'.format(ASD_molecule), 'r') as text:\n",
    "        lines = text.readlines()\n",
    "    return lines\n",
    "\n",
    "def graph_info(lines, no_atoms):\n",
    "    atoms = [atom.split()[3] for atom in lines[4:no_atoms+4]]\n",
    "    bonds = [[int(bond.split()[0]), int(bond.split()[1])] for bond in lines[no_atoms+4:-1]]\n",
    "    bond_weights = [float(bond.split()[2])/2 for bond in lines[no_atoms+4:-1]]\n",
    "    \n",
    "    return atoms, bonds, bond_weights  "
   ]
  },
  {
   "cell_type": "code",
   "execution_count": 4,
   "metadata": {},
   "outputs": [],
   "source": [
    "ASD_molecule_list = list(set([lookup[x[0]] for x in data]))"
   ]
  },
  {
   "cell_type": "code",
   "execution_count": null,
   "metadata": {},
   "outputs": [],
   "source": [
    "for ASD_molecule in tqdm(ASD_molecule_list):\n",
    "    try:\n",
    "        get_graph_files(ASD_molecule)\n",
    "    except:\n",
    "        print(ASD_molecule, ' missing')"
   ]
  },
  {
   "cell_type": "code",
   "execution_count": 15,
   "metadata": {},
   "outputs": [],
   "source": [
    "\n"
   ]
  },
  {
   "cell_type": "code",
   "execution_count": null,
   "metadata": {},
   "outputs": [],
   "source": []
  },
  {
   "cell_type": "code",
   "execution_count": 70,
   "metadata": {},
   "outputs": [],
   "source": []
  },
  {
   "cell_type": "code",
   "execution_count": 16,
   "metadata": {},
   "outputs": [],
   "source": [
    "with open('Drug_files/{}.mol'.format(lookup[data[0][0]]), 'r') as text:\n",
    "    lines = text.readlines()"
   ]
  },
  {
   "cell_type": "code",
   "execution_count": 23,
   "metadata": {},
   "outputs": [],
   "source": [
    "no_atoms = int(lines[3].split()[0])\n"
   ]
  },
  {
   "cell_type": "code",
   "execution_count": 71,
   "metadata": {},
   "outputs": [
    {
     "output_type": "execute_result",
     "data": {
      "text/plain": "(['N', 'C', 'C', 'O', 'C', 'C', 'C', 'C', 'C', 'C', 'C', 'O', 'O'],\n [[1, 2],\n  [2, 3],\n  [2, 5],\n  [3, 4],\n  [3, 13],\n  [5, 6],\n  [6, 7],\n  [6, 8],\n  [7, 9],\n  [8, 10],\n  [9, 11],\n  [10, 11],\n  [11, 12]],\n [0.5, 0.5, 0.5, 1.0, 0.5, 0.5, 1.0, 0.5, 0.5, 1.0, 0.5, 0.5, 1.0])"
     },
     "metadata": {},
     "execution_count": 71
    }
   ],
   "source": [
    "graph_info(lines, no_atoms)"
   ]
  },
  {
   "cell_type": "code",
   "execution_count": 40,
   "metadata": {},
   "outputs": [
    {
     "output_type": "execute_result",
     "data": {
      "text/plain": "[['1', '2', '1'],\n ['2', '3', '1'],\n ['2', '5', '1'],\n ['3', '4', '2'],\n ['3', '13', '1'],\n ['5', '6', '1'],\n ['6', '7', '2'],\n ['6', '8', '1'],\n ['7', '9', '1'],\n ['8', '10', '2'],\n ['9', '11', '1'],\n ['10', '11', '1'],\n ['11', '12', '2']]"
     },
     "metadata": {},
     "execution_count": 40
    }
   ],
   "source": []
  }
 ],
 "metadata": {
  "language_info": {
   "codemirror_mode": {
    "name": "ipython",
    "version": 3
   },
   "file_extension": ".py",
   "mimetype": "text/x-python",
   "name": "python",
   "nbconvert_exporter": "python",
   "pygments_lexer": "ipython3",
   "version": "3.8.2-final"
  },
  "orig_nbformat": 2,
  "kernelspec": {
   "name": "python38264bitalostericvenvvenve042302d83484289899f1ea331a7aba5",
   "display_name": "Python 3.8.2 64-bit ('.alosteric_venv': venv)"
  }
 },
 "nbformat": 4,
 "nbformat_minor": 2
}