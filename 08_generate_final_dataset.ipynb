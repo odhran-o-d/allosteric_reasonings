{
 "cells": [
  {
   "cell_type": "code",
   "execution_count": null,
   "metadata": {},
   "outputs": [],
   "source": [
    "from utils.path_manage import get_files\n",
    "\n",
    "data, lookup, ASD_dictionary, BCE_dictionary, Edge_list, Edge_features, Drug_graph_list, Protein_graph_list = get_files()\n",
    "\n",
    "Drug_list = list(set(data[:,0]))\n",
    "Protein_list = list(set(data[:,2]))\n",
    "\n",
    "Drug_graph_dict = {x : y for x, y in zip(Drug_list, Drug_graph_list)}\n",
    "Protein_graph_dict = {x : y for x, y in zip(Protein_list, Protein_graph_list)}\n",
    "\n",
    "filtered_data = [x for x in data if not isinstance(Drug_graph_dict[x[0]], str)] \n",
    "filtered_data = [x for x in filtered_data if not isinstance(Protein_graph_dict[x[2]], str)] "
   ]
  },
  {
   "cell_type": "code",
   "execution_count": null,
   "metadata": {},
   "outputs": [],
   "source": []
  },
  {
   "cell_type": "code",
   "execution_count": null,
   "metadata": {},
   "outputs": [],
   "source": []
  },
  {
   "cell_type": "code",
   "execution_count": null,
   "metadata": {},
   "outputs": [],
   "source": []
  },
  {
   "cell_type": "code",
   "execution_count": null,
   "metadata": {},
   "outputs": [],
   "source": []
  }
 ],
 "metadata": {
  "language_info": {
   "codemirror_mode": {
    "name": "ipython",
    "version": 3
   },
   "file_extension": ".py",
   "mimetype": "text/x-python",
   "name": "python",
   "nbconvert_exporter": "python",
   "pygments_lexer": "ipython3",
   "version": "3.8.2-final"
  },
  "orig_nbformat": 2,
  "kernelspec": {
   "name": "python38264bitalostericvenvvenve042302d83484289899f1ea331a7aba5",
   "display_name": "Python 3.8.2 64-bit ('.alosteric_venv': venv)"
  }
 },
 "nbformat": 4,
 "nbformat_minor": 2
}